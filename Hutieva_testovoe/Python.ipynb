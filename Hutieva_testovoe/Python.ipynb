{
 "cells": [
  {
   "cell_type": "markdown",
   "metadata": {},
   "source": [
    "Читаем файл и смотрим все ли правльно прочиталось"
   ]
  },
  {
   "cell_type": "code",
   "execution_count": 2,
   "metadata": {},
   "outputs": [
    {
     "name": "stdout",
     "output_type": "stream",
     "text": [
      "    client_id            session_id   datetime    category\n",
      "0  2397727872  b7fcc1f6-686b-41c005 2020-01-06   otp-login\n",
      "1  2397727873  b7fcc1f6-686b-41c006 2020-01-06  mobile-otp\n",
      "2  2397727874  b7fcc1f6-686b-41c007 2020-01-06     default\n",
      "3  2397727875  b7fcc1f6-686b-41c008 2020-01-06  pass-login\n",
      "4  2397727876  b7fcc1f6-686b-41c009 2020-01-06   otp-login\n"
     ]
    }
   ],
   "source": [
    "import pandas as pd\n",
    "\n",
    "\n",
    "df = pd.read_excel('OTP_session_id.xlsx')\n",
    "print(df.head())"
   ]
  },
  {
   "cell_type": "markdown",
   "metadata": {},
   "source": [
    "# Задание 1. \n",
    "\n",
    "Показать категорию, по которой было введено наибольшее число кодов за все время"
   ]
  },
  {
   "cell_type": "code",
   "execution_count": 3,
   "metadata": {
    "scrolled": true
   },
   "outputs": [
    {
     "name": "stdout",
     "output_type": "stream",
     "text": [
      "mobile-otp\n"
     ]
    }
   ],
   "source": [
    "df_1 = df.groupby('category')['session_id'].count()\n",
    "print(df_1.idxmax())\n"
   ]
  },
  {
   "cell_type": "markdown",
   "metadata": {},
   "source": [
    "# Задание 2. \n",
    "\n",
    "Добавить индикатор, который будет выделять следующие значения:\n",
    "•  Если otp для категории мобильная идентификация (mobile), то = 1\n",
    "•  Если otp для категории логин (login), но не для логина с помощью пароля (pass), то = 2\n",
    "Все остальные заявки не должны попасть в результат выполнения запроса.\n"
   ]
  },
  {
   "cell_type": "code",
   "execution_count": 4,
   "metadata": {},
   "outputs": [
    {
     "name": "stdout",
     "output_type": "stream",
     "text": [
      "    client_id            session_id   datetime    category  indikator\n",
      "0  2397727872  b7fcc1f6-686b-41c005 2020-01-06   otp-login        2.0\n",
      "1  2397727873  b7fcc1f6-686b-41c006 2020-01-06  mobile-otp        1.0\n",
      "4  2397727876  b7fcc1f6-686b-41c009 2020-01-06   otp-login        2.0\n",
      "5  2397727877  b7fcc1f6-686b-41c010 2020-01-06  mobile-otp        1.0\n",
      "8  2397727880  b7fcc1f6-686b-41c013 2020-01-06   otp-login        2.0\n"
     ]
    }
   ],
   "source": [
    "needs = [df['category'] == 'mobile-otp',df['category'] == 'otp-login']\n",
    "indikator = [1, 2]\n",
    "df_2=df.copy()\n",
    "\n",
    "df_2.loc[df_2['category'] == 'mobile-otp', 'indikator'] = 1\n",
    "df_2.loc[df_2['category'] == 'otp-login', 'indikator'] = 2\n",
    "df_2 = df_2[df_2['indikator'].notna()]\n",
    "\n",
    "print(df_2.head())\n",
    "\n"
   ]
  },
  {
   "cell_type": "markdown",
   "metadata": {},
   "source": [
    "# Задание 3. \n",
    "\n",
    "Посчитать метрику Month-of-Month (прирост текущего месяца к предыдущему) по уникальным клиентам с кодами otp-login."
   ]
  },
  {
   "cell_type": "code",
   "execution_count": 5,
   "metadata": {},
   "outputs": [
    {
     "name": "stdout",
     "output_type": "stream",
     "text": [
      "   year  month  count  month_of_month\n",
      "0  2020      1     86             NaN\n",
      "1  2020      2    101            15.0\n",
      "2  2020      3     99            -2.0\n"
     ]
    }
   ],
   "source": [
    "df['datetime'] = pd.to_datetime(df['datetime'], format='%m/%d/%Y')\n",
    "df['year'] = df['datetime'].dt.year\n",
    "df['month'] = df['datetime'].dt.month\n",
    "\n",
    "df_3 = df[df['category'] == 'otp-login']\n",
    "df_3 = df_3.groupby(['year', 'month'])['client_id'].nunique().reset_index(name='count')\n",
    "df_3 = df_3.sort_values(['year', 'month'])\n",
    "df_3['month_of_month'] =  df_3['count'] - df_3['count'].shift(1)\n",
    "\n",
    "\n",
    "print(df_3)\n"
   ]
  },
  {
   "cell_type": "markdown",
   "metadata": {},
   "source": [
    "# Задание 4.  \n",
    "\n",
    "сформируйте:\n",
    "•  Количество введённых ОТП кодов в разрезе категории кода ОТП\n",
    "•  Долю каждой категории по убыванию\n",
    "•  Количество введённых ОТП с накопительным итогом\n",
    "•  Общее количество введённых ОТП кодов"
   ]
  },
  {
   "cell_type": "code",
   "execution_count": 13,
   "metadata": {},
   "outputs": [
    {
     "name": "stdout",
     "output_type": "stream",
     "text": [
      "     category  category_count  procent  count  full_count\n",
      "3  pass-login             383       28   1349        1349\n",
      "2   otp-login             286       21    966        1349\n",
      "1  mobile-otp             390       29    680        1349\n",
      "0     default             290       21    290        1349\n"
     ]
    }
   ],
   "source": [
    "df_4 = df.groupby('category').size().reset_index(name='category_count')\n",
    "full_count = df_4['category_count'].sum()\n",
    "procent = (df_4['category_count'] * 100.0 / full_count).round(0).astype(int)\n",
    "count = df_4['category_count'].cumsum()\n",
    "\n",
    "df_4['procent'] = procent\n",
    "df_4['count'] = count\n",
    "df_4['full_count'] = full_count\n",
    "df_4 = df_4.sort_values(by='category', ascending=False)\n",
    "\n",
    "print(df_4)\n"
   ]
  }
 ],
 "metadata": {
  "kernelspec": {
   "display_name": "Python 3 (ipykernel)",
   "language": "python",
   "name": "python3"
  },
  "language_info": {
   "codemirror_mode": {
    "name": "ipython",
    "version": 3
   },
   "file_extension": ".py",
   "mimetype": "text/x-python",
   "name": "python",
   "nbconvert_exporter": "python",
   "pygments_lexer": "ipython3",
   "version": "3.13.2"
  }
 },
 "nbformat": 4,
 "nbformat_minor": 4
}
